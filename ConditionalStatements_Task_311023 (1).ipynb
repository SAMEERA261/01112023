{
 "cells": [
  {
   "cell_type": "markdown",
   "id": "4c1e2650",
   "metadata": {},
   "source": [
    "## MANDATORY TASK:\n",
    "### Conditional statements problems:\n",
    "\n",
    "1. Write a Python program that asks the user for their age and prints \"You are an adult\" if the age is 18 or older, otherwise prints \"You are a minor'."
   ]
  },
  {
   "cell_type": "code",
   "execution_count": 43,
   "id": "b74e2618",
   "metadata": {},
   "outputs": [
    {
     "name": "stdout",
     "output_type": "stream",
     "text": [
      "Enter your age: 24\n",
      "You are an adult.\n"
     ]
    }
   ],
   "source": [
    "age = int(input(\"Enter your age: \"))# user need to type the age\n",
    "\n",
    "# Check if the user is an adult or a minor\n",
    "if age >= 18: # Check if the user is an adult or a minor\n",
    "    print(\"You are an adult.\")\n",
    "else:#if your age is above 18 years then you are considered as adult.\n",
    "    print(\"You are a minor.\")"
   ]
  },
  {
   "cell_type": "markdown",
   "id": "8af44952",
   "metadata": {},
   "source": [
    "2. Write a program that takes a numerical grade (out of 100) as input and prints the corresponding letter grade according to the following scale:\n",
    "   90-100: A\n",
    "   80-89: B\n",
    "   70-79: C\n",
    "   60-69: D\n",
    "   Below 60: F\n"
   ]
  },
  {
   "cell_type": "code",
   "execution_count": 18,
   "id": "3501a036",
   "metadata": {},
   "outputs": [
    {
     "name": "stdout",
     "output_type": "stream",
     "text": [
      "Enter your marks out of 100 : 90\n",
      "A\n"
     ]
    }
   ],
   "source": [
    "score=float(input(\"Enter your marks out of 100 : \"))#user will enter the marks thsat need to be shown as grades\n",
    "if score >100:#will see if the user enters numbers above 100 then output will be to enter the correct number \n",
    "    print('enter number (out 100)')\n",
    "elif 90<=score<=100:# here the condition will be if the score is less than 100 and greter than 90 than it will print 'A'\n",
    "    print('A')\n",
    "elif 80<=score<=89:# here the condition will be if the score is less than 89 and greter than 80 than it will print 'B'\n",
    "    print('B')\n",
    "elif 70<=score<=79:# here the condition will be if the score is less than 79 and greter than 70 than it will print 'c'\n",
    "    print('C')\n",
    "elif 60<=score<=69:# here the condition will be if the score is less than 69 and greter than 60 than it will print 'D'\n",
    "    print('D')\n",
    "else:#if the total conditions couldnt accept the given marks then it will print 'F'\n",
    "    print('F')    \n"
   ]
  },
  {
   "cell_type": "markdown",
   "id": "7452c387",
   "metadata": {},
   "source": [
    "3. Write a program that calculates the Body Mass Index (BMI) of a person. The user should input their weight in kilograms and height in meters. The program should then print whether the person is underweight, normal weight, overweight, or obese.\n"
   ]
  },
  {
   "cell_type": "code",
   "execution_count": 27,
   "id": "f042744d",
   "metadata": {},
   "outputs": [
    {
     "name": "stdout",
     "output_type": "stream",
     "text": [
      "your weight in kg : 15\n",
      "your height in cm :155\n",
      "the BMI of a person whose weight and height are  15 and 155.0 respectively is 0.0006243496357960458\n",
      "underweight\n"
     ]
    }
   ],
   "source": [
    "weight=int(input('your weight in kg : '))\n",
    "height=float(input('your height in cm :'))\n",
    "BMI=weight/ height**2   #bmi formula\n",
    "format=print(f'the BMI of a person whose weight and height are  {weight} and {height} respectively is {BMI}')\n",
    "if BMI<18.5:     #it checks directly bmi value       \n",
    "    print('underweight')\n",
    "elif BMI>=18.5 and z<24: #using and \n",
    "    print('normal weight')\n",
    "elif BMI==25 and z<=29.9:\n",
    "    print('over weight')\n",
    "else:\n",
    "    print('obesity')"
   ]
  },
  {
   "cell_type": "markdown",
   "id": "e3e6e6c9",
   "metadata": {},
   "source": [
    "4. Write a program that asks the user for three numbers and prints the maximum of the three"
   ]
  },
  {
   "cell_type": "code",
   "execution_count": 29,
   "id": "8844ddfb",
   "metadata": {},
   "outputs": [
    {
     "name": "stdout",
     "output_type": "stream",
     "text": [
      "enter first number :15\n",
      "enter second number :08\n",
      "enter third number :2022\n",
      "Third number is Highest 2022\n"
     ]
    }
   ],
   "source": [
    "x=int(input('enter first number :'))\n",
    "y=int(input('enter second number :'))\n",
    "z=int(input('enter third number :'))\n",
    "if x>y and x>z:\n",
    "    print('first number is highest',(x))  \n",
    "elif y>x and y>z:\n",
    "    print('Second NUmber is highest',(y))\n",
    "else:\n",
    "    print('Third number is Highest',(z))\n",
    "    \n",
    "    "
   ]
  },
  {
   "cell_type": "markdown",
   "id": "adb93a0c",
   "metadata": {},
   "source": [
    "5. Write a program that asks the user for a temperature (in Celsius) and prints \"It's freezing\" if the temperature is below 0, \"It's cool\" if it's between 0 and 10, \"It's warm\" if it's between 10 and 20, and \"It's hot\" if it's above 20"
   ]
  },
  {
   "cell_type": "code",
   "execution_count": 30,
   "id": "dce8f971",
   "metadata": {},
   "outputs": [
    {
     "name": "stdout",
     "output_type": "stream",
     "text": [
      "Enter the temperature in Celsius: 15\n",
      "It's warm.\n"
     ]
    }
   ],
   "source": [
    "temperature = float(input(\"Enter the temperature in Celsius: \"))\n",
    "\n",
    "\n",
    "if temperature < 0: # Check and print the corresponding message\n",
    "    print(\"It's freezing.\")\n",
    "elif 0 <= temperature<= 10:\n",
    "    print(\"It's cool.\")\n",
    "elif 10 < temperature<= 20:\n",
    "    print(\"It's warm.\")\n",
    "else:\n",
    "    print(\"It's hot.\")"
   ]
  },
  {
   "cell_type": "markdown",
   "id": "091643f4",
   "metadata": {},
   "source": [
    "6. Write a program that asks the user for a number (1-7) and prints the corresponding day of the week."
   ]
  },
  {
   "cell_type": "code",
   "execution_count": 35,
   "id": "1cac2d5f",
   "metadata": {},
   "outputs": [
    {
     "name": "stdout",
     "output_type": "stream",
     "text": [
      "please enter the number (1-7)5\n",
      "friday\n"
     ]
    }
   ],
   "source": [
    "days=int(input('please enter the number (1-7)'))\n",
    "\n",
    "if days==1:\n",
    "    print(\"Monday\")\n",
    "elif days==2:\n",
    "    print(\"Tuesday\")\n",
    "elif days==3:\n",
    "    print(\"wednesday\")\n",
    "elif days==4:\n",
    "    print(\"Thursday\")\n",
    "elif days==5:\n",
    "    print(\"friday\")\n",
    "elif days==6:\n",
    "    print(\"saturday\")\n",
    "elif days==7:\n",
    "    print(\"sunday\")\n",
    "else: \n",
    "    print(\"please enter valid number\")"
   ]
  },
  {
   "cell_type": "markdown",
   "id": "9cbe27b6",
   "metadata": {},
   "source": [
    "7. Write a program that asks the user for a number and prints \"In range\" if the number is between 10 and 20 (inclusive), and \"Out of range\" otherwise.\n"
   ]
  },
  {
   "cell_type": "code",
   "execution_count": 37,
   "id": "25f65bb6",
   "metadata": {
    "scrolled": true
   },
   "outputs": [
    {
     "name": "stdout",
     "output_type": "stream",
     "text": [
      "Enter a number: 45\n",
      "Out of range.\n"
     ]
    }
   ],
   "source": [
    "number = float(input(\"Enter a number: \"))\n",
    "if 10 <= number <= 20: # Check if the number is in the specified range\n",
    "    print(\"In range.\")\n",
    "else:\n",
    "    print(\"Out of range.\")"
   ]
  },
  {
   "cell_type": "markdown",
   "id": "1066ae04",
   "metadata": {},
   "source": [
    "8. Write a program that asks the user for an integer and prints whether it's even or odd"
   ]
  },
  {
   "cell_type": "code",
   "execution_count": 38,
   "id": "7e70b05b",
   "metadata": {},
   "outputs": [
    {
     "name": "stdout",
     "output_type": "stream",
     "text": [
      "Enter an integer: 2\n",
      "Even.\n"
     ]
    }
   ],
   "source": [
    "integer = int(input(\"Enter an integer: \"))\n",
    "if integer % 2 == 0:# Check if the number is even or odd\n",
    "    print(\"Even.\")\n",
    "else:\n",
    "    print(\"Odd.\")"
   ]
  },
  {
   "cell_type": "markdown",
   "id": "35c73c77",
   "metadata": {},
   "source": [
    "9.  Write a Python program to add 'ing' at the end of a given string (string length should be equal to or more than 3). If the given string already ends with 'ing' then add 'ly' instead.If the string length of the given string is less than 3, leave it unchanged\n"
   ]
  },
  {
   "cell_type": "code",
   "execution_count": 42,
   "id": "8b9aac2d",
   "metadata": {},
   "outputs": [
    {
     "name": "stdout",
     "output_type": "stream",
     "text": [
      "Enter a string: suffering\n",
      "sufferingly\n"
     ]
    }
   ],
   "source": [
    "string = input(\"Enter a string: \")\n",
    "if len(string) >= 3: # Check the length of the string and modify accordingly\n",
    "    if string.endswith(\"ing\"):#here the condition is applies\n",
    "        print(string + \"ly\")#here the concatination of string based on the string\n",
    "    else:\n",
    "        print(string + \"ing\") \n",
    "else:\n",
    "    print(string)#its an nested if statement"
   ]
  },
  {
   "cell_type": "markdown",
   "id": "9b68e9ab",
   "metadata": {},
   "source": [
    "10. Create rock-paper-scissors by using the if condition."
   ]
  },
  {
   "cell_type": "code",
   "execution_count": 3,
   "id": "a14ebb02",
   "metadata": {},
   "outputs": [
    {
     "name": "stdout",
     "output_type": "stream",
     "text": [
      "Player 1:rock\n",
      "Player 2:rock\n",
      "It's a tie!\n"
     ]
    }
   ],
   "source": [
    "# rock paper scissor\n",
    "player1 = input('Player 1:') # getting string from palyer1 one as rock paper or scissor\n",
    "player2 = input('Player 2:') # getting string from palyer 2 one as rock paper or scissor\n",
    "\n",
    "if player1 == player2:# if player1 and 2 are getting bot same\n",
    "    print(\"It's a tie!\") # printing the match is tie\n",
    "elif player1 == \"rock\": # otherwise if palyer1 is getting rock \n",
    "    if player2 == \"scissors\": # and player 2 is getting scissor\n",
    "        print(\"Player 1 wins\") # printing player1 one is win bcz rock can break scissor\n",
    "    else: # if elif stmt is wrong it shold give player 2 wins\n",
    "        print(\"Player 2 wins\") # printing player 2 wins\n",
    "elif player1 == \"paper\": # otherwise if palyer1 is getting paper\n",
    "    if player2 == \"rock\": # and player 2 is getting rock\n",
    "        print(\"Player 1 wins\") # printing player1 one is win bcz paper can fold rock\n",
    "    else: # if 2nd elif stmt is wrong it shold give player 2 wins\n",
    "        print(\"Player 2 wins\") # printing player 2 wins\n",
    "elif player1 == \"scissors\": # otherwise if palyer1 is getting scissor\n",
    "    if player2 == \"paper\": # and player 2 is getting paper\n",
    "        print(\"Player 1 wins\") # printing player1 one is win bcz scissor can cut paper\n",
    "    else: # if 3rd elif stmt is wrong it shold give player 2 wins\n",
    "        print(\"Player 2 wins\") # printing player 2 wins"
   ]
  },
  {
   "cell_type": "markdown",
   "id": "abe61ed9",
   "metadata": {},
   "source": [
    "11. Create a dynamic calculator which asks for numbers and operator and return the answers,\n",
    "             Example\n",
    "    Input: Type first number: 10\",\n",
    "    Type any of this (+, -, *, /, %, **): ,*\n",
    "    Assignment-2 ,\n",
    "    Type second number: 19,\n",
    "     Output:Answer is 190"
   ]
  },
  {
   "cell_type": "code",
   "execution_count": 4,
   "id": "54b262e6",
   "metadata": {},
   "outputs": [
    {
     "name": "stdout",
     "output_type": "stream",
     "text": [
      "Type the first number: 5\n",
      "Type an operators: *\n",
      "Type the second number: 8\n",
      "40.0\n"
     ]
    }
   ],
   "source": [
    "#calculator\n",
    "first_number = int(input(\"Type the first number: \"))\n",
    "operator = input(\"Type an operators: \")\n",
    "second_number = float(input(\"Type the second number: \"))\n",
    "\n",
    "# Perform the operation based on the operator provided\n",
    "if operator == '+':\n",
    "        result = first_number + second_number\n",
    "        print(result)\n",
    "elif operator == '-':\n",
    "        result = first_number - second_number\n",
    "        print(result)\n",
    "elif operator == '*':\n",
    "        result = first_number * second_number\n",
    "        print(result)\n",
    "elif operator == '/':\n",
    "        result = first_number / second_number\n",
    "        print(result)\n",
    "elif operator == '%':\n",
    "        result = first_number % second_number\n",
    "        print(result)\n",
    "elif operator == '**':\n",
    "        result = first_number ** second_number\n",
    "        print(result)\n",
    "else:\n",
    "        print(\"Invalid operator entered.\")\n"
   ]
  },
  {
   "cell_type": "markdown",
   "id": "34b7c047",
   "metadata": {},
   "source": [
    "12. Manoj Kumar has family and friends. Help him remind them who is who. Given a string with a name, return the relation of that person to Manoj Kumar.,Person Relation,Shiva father ,Letha mother, Tarun brother,Kavitha sister ,,Strange Coder.\n"
   ]
  },
  {
   "cell_type": "code",
   "execution_count": 9,
   "id": "a7da8d3d",
   "metadata": {},
   "outputs": [
    {
     "name": "stdout",
     "output_type": "stream",
     "text": [
      "enter relation : stranger\n",
      "Manoj Stranger name is : Coder\n"
     ]
    }
   ],
   "source": [
    "s = input('enter relation : ')\n",
    "if s == 'father': # checks the relation if given input and condition is matched or not\n",
    "    print('Manoj father name is : Shiva')\n",
    "elif s == 'mother':\n",
    "    print('Manoj Mother name is : Letha')\n",
    "elif s == 'brother':\n",
    "    print('Manoj brother name is : Tarun')\n",
    "elif s == 'sister':\n",
    "    print('Manoj sister name is : Kavitha')\n",
    "elif s == 'stranger':\n",
    "    print('Manoj Stranger name is : Coder')\n"
   ]
  },
  {
   "cell_type": "markdown",
   "id": "24bb2caf",
   "metadata": {},
   "source": [
    "13. Write a python program that takes in a word and determines whether or not it is plural. A plural word is one that ends with “s”\n"
   ]
  },
  {
   "cell_type": "code",
   "execution_count": 12,
   "id": "08e03469",
   "metadata": {},
   "outputs": [
    {
     "name": "stdout",
     "output_type": "stream",
     "text": [
      "enter a string : sameera\n",
      "sameeras\n"
     ]
    }
   ],
   "source": [
    "y = input('enter a string : ')\n",
    "\n",
    "if y.endswith('s'):\n",
    "    print(y)\n",
    "else:\n",
    "    print((y)+('s'))"
   ]
  },
  {
   "cell_type": "markdown",
   "id": "0e6a9bfa",
   "metadata": {},
   "source": [
    "14. A company decided to give a bonus of 5% to employees if his/her year of service is more than 5 years.Ask user for their salary and year of service and print the net bonus amount.\n"
   ]
  },
  {
   "cell_type": "code",
   "execution_count": 19,
   "id": "bb108cd7",
   "metadata": {},
   "outputs": [
    {
     "name": "stdout",
     "output_type": "stream",
     "text": [
      "Salary recived :700000\n",
      "year of service :7\n",
      "Your bonus amount is :  735000.0\n"
     ]
    }
   ],
   "source": [
    "x=int(input('Salary recived :'))\n",
    "y=int(input('year of service :'))\n",
    "if y>5:\n",
    "    print('Your bonus amount is : ',(x*5/100)+x)\n",
    "else:\n",
    "    print('you are not elgible for the bonus')\n"
   ]
  },
  {
   "cell_type": "markdown",
   "id": "8685499e",
   "metadata": {},
   "source": [
    "    15. Take values of length and breadth of a rectangle from the user and check if it is square or not.`"
   ]
  },
  {
   "cell_type": "code",
   "execution_count": 20,
   "id": "65fa8d2a",
   "metadata": {},
   "outputs": [
    {
     "name": "stdout",
     "output_type": "stream",
     "text": [
      "Enter the length of the rectangle: 4\n",
      "Enter the breadth of the rectangle: 4\n",
      "It's a square!\n"
     ]
    }
   ],
   "source": [
    "length = float(input(\"Enter the length of the rectangle: \"))\n",
    "breadth = float(input(\"Enter the breadth of the rectangle: \"))\n",
    "if length == breadth:\n",
    "    print(\"It's a square!\")\n",
    "else:\n",
    "    print(\"It's a rectangle.\")"
   ]
  },
  {
   "cell_type": "markdown",
   "id": "9eeb9bc9",
   "metadata": {},
   "source": [
    "16. Accept any city from the user and display the momentum of the city \n",
    "    Hyderabad  : “charminar”\n",
    "    “Delhi”         : “red fort\n",
    "     “Agra           : Taj mahal\n",
    "    If the city name is not given correctly, give him a warning message\n"
   ]
  },
  {
   "cell_type": "code",
   "execution_count": 26,
   "id": "9c079bf8",
   "metadata": {},
   "outputs": [
    {
     "name": "stdout",
     "output_type": "stream",
     "text": [
      "please enter the city name : delhi\n",
      "RED FORT\n"
     ]
    }
   ],
   "source": [
    "city= input(\"please enter the city name : \")\n",
    "if city=='hyderabad':\n",
    "    print(\"CHARMINAR\")\n",
    "elif  city=='delhi':\n",
    "    print(\"RED FORT\")\n",
    "elif  city=='agra':\n",
    "    print(\"TAJ MAHAL\")\n",
    "else:\n",
    "    print(\"Warning!: Monument information not available for this city.\")\n",
    "    "
   ]
  },
  {
   "cell_type": "markdown",
   "id": "0679aff2",
   "metadata": {},
   "source": [
    "17. Write a program to check whether a person is eligible for voting or not  (voting age>=18)."
   ]
  },
  {
   "cell_type": "code",
   "execution_count": 34,
   "id": "f351f648",
   "metadata": {},
   "outputs": [
    {
     "name": "stdout",
     "output_type": "stream",
     "text": [
      "Please enter your age : 23\n",
      "Elgible for voting\n"
     ]
    }
   ],
   "source": [
    "voting_age=float(input(\"Please enter your age : \"))\n",
    "\n",
    "if voting_age >=18:\n",
    "      print(\"Elgible for voting\")\n",
    "    \n",
    "else:\n",
    "    print(\"Not elgible for voting\")"
   ]
  },
  {
   "cell_type": "markdown",
   "id": "e15d6ccf",
   "metadata": {},
   "source": [
    "18. Accept three sides of the triangle and check whether the triangle is possible or not.(Triangle is possible only when the sum of any two sides is greater than 3 rd side)."
   ]
  },
  {
   "cell_type": "code",
   "execution_count": 35,
   "id": "a83e79b6",
   "metadata": {},
   "outputs": [
    {
     "name": "stdout",
     "output_type": "stream",
     "text": [
      "Enter the length of the first side: 4\n",
      "Enter the length of the second side: 5\n",
      "Enter the length of the third side: 5\n",
      "Yes, triangle is possible\n"
     ]
    }
   ],
   "source": [
    "side1 = int(input(\"Enter the length of the first side: \"))\n",
    "side2 = int(input(\"Enter the length of the second side: \"))\n",
    "side3 = int(input(\"Enter the length of the third side: \"))\n",
    "\n",
    "# Check if the triangle is possible or not\n",
    "if (side1 + side2 > side3) and (side2 + side3 > side1) and (side1 + side3 > side2):\n",
    "    print(\"Yes, triangle is possible\")\n",
    "else:\n",
    "    print(\"No, triangle is not possible\")"
   ]
  },
  {
   "cell_type": "code",
   "execution_count": null,
   "id": "60f4d43d",
   "metadata": {},
   "outputs": [],
   "source": []
  }
 ],
 "metadata": {
  "kernelspec": {
   "display_name": "Python 3 (ipykernel)",
   "language": "python",
   "name": "python3"
  },
  "language_info": {
   "codemirror_mode": {
    "name": "ipython",
    "version": 3
   },
   "file_extension": ".py",
   "mimetype": "text/x-python",
   "name": "python",
   "nbconvert_exporter": "python",
   "pygments_lexer": "ipython3",
   "version": "3.11.5"
  }
 },
 "nbformat": 4,
 "nbformat_minor": 5
}
